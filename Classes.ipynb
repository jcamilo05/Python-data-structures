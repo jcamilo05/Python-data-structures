{
 "cells": [
  {
   "cell_type": "markdown",
   "id": "921f36c8",
   "metadata": {},
   "source": [
    "# Objects and clases"
   ]
  },
  {
   "cell_type": "code",
   "execution_count": 1,
   "id": "d13bdcb2",
   "metadata": {},
   "outputs": [],
   "source": [
    "class Person:\n",
    "    pass"
   ]
  },
  {
   "cell_type": "code",
   "execution_count": 2,
   "id": "428e8550",
   "metadata": {},
   "outputs": [
    {
     "data": {
      "text/plain": [
       "__main__.Person"
      ]
     },
     "execution_count": 2,
     "metadata": {},
     "output_type": "execute_result"
    }
   ],
   "source": [
    "# create an instace of the class\n",
    "p = Person()\n",
    "type(p)"
   ]
  },
  {
   "cell_type": "code",
   "execution_count": 3,
   "id": "6a1a1bc2",
   "metadata": {},
   "outputs": [
    {
     "data": {
      "text/plain": [
       "True"
      ]
     },
     "execution_count": 3,
     "metadata": {},
     "output_type": "execute_result"
    }
   ],
   "source": [
    "# see if one object is an instace of a specif class\n",
    "\n",
    "isinstance(p,Person)"
   ]
  },
  {
   "cell_type": "code",
   "execution_count": 4,
   "id": "2f25edef",
   "metadata": {},
   "outputs": [
    {
     "data": {
      "text/plain": [
       "mappingproxy({'__module__': '__main__',\n",
       "              '__dict__': <attribute '__dict__' of 'Person' objects>,\n",
       "              '__weakref__': <attribute '__weakref__' of 'Person' objects>,\n",
       "              '__doc__': None})"
      ]
     },
     "execution_count": 4,
     "metadata": {},
     "output_type": "execute_result"
    }
   ],
   "source": [
    "Person.__dict__"
   ]
  },
  {
   "cell_type": "code",
   "execution_count": 7,
   "id": "bb0ba790",
   "metadata": {},
   "outputs": [],
   "source": [
    "# creating a class with atributes\n",
    "# the most basic way wthout use fancy stuff\n",
    "\n",
    "class Program:\n",
    "    language = 'Python'\n",
    "    version = '3.6'"
   ]
  },
  {
   "cell_type": "markdown",
   "id": "af2fbec0",
   "metadata": {},
   "source": [
    "## Getters and setters\n",
    "\n",
    "There are so many ways of get a class's attribute, can be through dot notation, ot using the built-fuction **getattr**, the same way happens with the setter, a new attribute can be aasigned to a class with dot notation and with the buitl-fuction **setattr**, the following are examples."
   ]
  },
  {
   "cell_type": "code",
   "execution_count": 11,
   "id": "297b1540",
   "metadata": {},
   "outputs": [
    {
     "data": {
      "text/plain": [
       "('Python', 'Python')"
      ]
     },
     "execution_count": 11,
     "metadata": {},
     "output_type": "execute_result"
    }
   ],
   "source": [
    "# accesing to the attributes by getattr and dot notation\n",
    "\n",
    "program_1 =Program()\n",
    "\n",
    "getattr(program_1,'language'), program_1.language  # both of them are equivalent"
   ]
  },
  {
   "cell_type": "code",
   "execution_count": null,
   "id": "53dd4da2",
   "metadata": {},
   "outputs": [],
   "source": [
    "# creating new attributes with setters and dot notation"
   ]
  },
  {
   "cell_type": "code",
   "execution_count": 12,
   "id": "39638a34",
   "metadata": {},
   "outputs": [],
   "source": [
    "setattr(program_1,'level','high')"
   ]
  },
  {
   "cell_type": "code",
   "execution_count": 13,
   "id": "da7d7e2f",
   "metadata": {},
   "outputs": [],
   "source": [
    "program_1.level_1 = 'hight_too'"
   ]
  },
  {
   "cell_type": "code",
   "execution_count": 14,
   "id": "7645b644",
   "metadata": {},
   "outputs": [
    {
     "data": {
      "text/plain": [
       "{'level': 'high', 'level_1': 'hight_too'}"
      ]
     },
     "execution_count": 14,
     "metadata": {},
     "output_type": "execute_result"
    }
   ],
   "source": [
    "program_1.__dict__"
   ]
  },
  {
   "cell_type": "code",
   "execution_count": 16,
   "id": "3f0e1f3c",
   "metadata": {},
   "outputs": [],
   "source": [
    "class Program_2():\n",
    "    language = 'Python'\n",
    "    \n",
    "    def say_hello():\n",
    "        print(f'Hello from {Program_2.language}')"
   ]
  },
  {
   "cell_type": "code",
   "execution_count": 17,
   "id": "10ac8201",
   "metadata": {},
   "outputs": [],
   "source": [
    "instance_2 = Program_2()"
   ]
  },
  {
   "cell_type": "code",
   "execution_count": 18,
   "id": "bcdcb356",
   "metadata": {},
   "outputs": [
    {
     "name": "stdout",
     "output_type": "stream",
     "text": [
      "Hello from Python\n"
     ]
    }
   ],
   "source": [
    "Program_2.say_hello()"
   ]
  },
  {
   "cell_type": "code",
   "execution_count": 19,
   "id": "c2d16b2f",
   "metadata": {},
   "outputs": [],
   "source": [
    "class Person_1:\n",
    "    def say_hello():\n",
    "        print('Hello')"
   ]
  },
  {
   "cell_type": "code",
   "execution_count": 20,
   "id": "9254ba8c",
   "metadata": {},
   "outputs": [],
   "source": [
    "instance_1 = Person_1()"
   ]
  },
  {
   "cell_type": "code",
   "execution_count": 21,
   "id": "8db2475f",
   "metadata": {},
   "outputs": [
    {
     "data": {
      "text/plain": [
       "<bound method Person_1.say_hello of <__main__.Person_1 object at 0x00000233EB441A90>>"
      ]
     },
     "execution_count": 21,
     "metadata": {},
     "output_type": "execute_result"
    }
   ],
   "source": [
    "instance_1.say_hello"
   ]
  },
  {
   "cell_type": "code",
   "execution_count": 27,
   "id": "f0b92467",
   "metadata": {},
   "outputs": [],
   "source": [
    "class Person_2():\n",
    "    def setname(instance_obj, new_name):\n",
    "        instance_obj.name = new_name"
   ]
  },
  {
   "cell_type": "code",
   "execution_count": 31,
   "id": "e28c941e",
   "metadata": {},
   "outputs": [
    {
     "ename": "NameError",
     "evalue": "name 'p' is not defined",
     "output_type": "error",
     "traceback": [
      "\u001b[1;31m---------------------------------------------------------------------------\u001b[0m",
      "\u001b[1;31mNameError\u001b[0m                                 Traceback (most recent call last)",
      "Cell \u001b[1;32mIn[31], line 1\u001b[0m\n\u001b[1;32m----> 1\u001b[0m Person_2\u001b[38;5;241m.\u001b[39msetname(p,\u001b[38;5;124m'\u001b[39m\u001b[38;5;124mAlex\u001b[39m\u001b[38;5;124m'\u001b[39m)\n",
      "\u001b[1;31mNameError\u001b[0m: name 'p' is not defined"
     ]
    }
   ],
   "source": [
    "Person_2.setname(p,'Alex')"
   ]
  },
  {
   "cell_type": "code",
   "execution_count": 29,
   "id": "76ebee19",
   "metadata": {},
   "outputs": [
    {
     "ename": "NameError",
     "evalue": "name 'p' is not defined",
     "output_type": "error",
     "traceback": [
      "\u001b[1;31m---------------------------------------------------------------------------\u001b[0m",
      "\u001b[1;31mNameError\u001b[0m                                 Traceback (most recent call last)",
      "Cell \u001b[1;32mIn[29], line 1\u001b[0m\n\u001b[1;32m----> 1\u001b[0m p\u001b[38;5;241m.\u001b[39m\u001b[38;5;18m__dict__\u001b[39m\n",
      "\u001b[1;31mNameError\u001b[0m: name 'p' is not defined"
     ]
    }
   ],
   "source": [
    "p.__dict__"
   ]
  },
  {
   "cell_type": "markdown",
   "id": "02d928d9",
   "metadata": {},
   "source": [
    "## Creating a class the right way\n",
    "\n",
    "When a class is created, is recommended use __init__ constructor, what it does is to initialize the object, and the keyword self, represents the instance of the class and binds the attributes with the given arguments."
   ]
  },
  {
   "cell_type": "code",
   "execution_count": 45,
   "id": "8dd14365",
   "metadata": {},
   "outputs": [],
   "source": [
    "## creating a class and initializing without arguments\n",
    "class Person_3():\n",
    "    def __init__(self):\n",
    "        print(f'Initialazing a new person object: {self}')"
   ]
  },
  {
   "cell_type": "code",
   "execution_count": 46,
   "id": "43700ede",
   "metadata": {},
   "outputs": [
    {
     "name": "stdout",
     "output_type": "stream",
     "text": [
      "Initialazing a new person object: <__main__.Person_3 object at 0x00000233EB3FFEF0>\n"
     ]
    }
   ],
   "source": [
    "instance_3 = Person_3()"
   ]
  },
  {
   "cell_type": "code",
   "execution_count": 49,
   "id": "9bef8009",
   "metadata": {},
   "outputs": [],
   "source": [
    "## Creating a class with arguments\n",
    "class Person_4:\n",
    "    def __init__(self, name):\n",
    "        self.name = name"
   ]
  },
  {
   "cell_type": "code",
   "execution_count": 50,
   "id": "7e1f53af",
   "metadata": {},
   "outputs": [],
   "source": [
    "p = Person_4('Alex')"
   ]
  },
  {
   "cell_type": "code",
   "execution_count": 51,
   "id": "664b3a2b",
   "metadata": {},
   "outputs": [
    {
     "data": {
      "text/plain": [
       "{'name': 'Alex'}"
      ]
     },
     "execution_count": 51,
     "metadata": {},
     "output_type": "execute_result"
    }
   ],
   "source": [
    "p.__dict__"
   ]
  },
  {
   "cell_type": "markdown",
   "id": "98b5769f",
   "metadata": {},
   "source": [
    "## Get and set\n",
    "\n",
    "though Python has not private variables like other oriented programming language, sometimes is requiered do a validation before set a value"
   ]
  },
  {
   "cell_type": "code",
   "execution_count": 52,
   "id": "67d0e0eb",
   "metadata": {},
   "outputs": [],
   "source": [
    "class Person_5:\n",
    "    def __init__(self, name):\n",
    "        self.set_name(name)\n",
    "        \n",
    "    def get_name(self):    # retrieve the attribute saved in the initialized condition\n",
    "        return self._name\n",
    "    \n",
    "    def set_name(self, value):         # it does a validation before set a value, if the condition is doesn't valid, raise an error\n",
    "        if isinstance(value, str) and len(value.strip()) > 0:\n",
    "            self._name = value\n",
    "        else:\n",
    "            raise ValueError('name must be a non-empty string')"
   ]
  },
  {
   "cell_type": "code",
   "execution_count": 53,
   "id": "e71dfb3f",
   "metadata": {},
   "outputs": [],
   "source": [
    "p = Person_5('Alex')"
   ]
  },
  {
   "cell_type": "code",
   "execution_count": 56,
   "id": "60b060b0",
   "metadata": {},
   "outputs": [
    {
     "name": "stdout",
     "output_type": "stream",
     "text": [
      "name must be a non-empty string\n"
     ]
    }
   ],
   "source": [
    "# this stataement try to put a empty value in the setter but a error is raise because it isn't validated by the setter\n",
    "try:\n",
    "    Person_5(' ')\n",
    "except ValueError as error:\n",
    "    print(error)"
   ]
  },
  {
   "cell_type": "code",
   "execution_count": 57,
   "id": "4dcde1d3",
   "metadata": {},
   "outputs": [],
   "source": [
    "# Using propety when is not wanted grasp directly the variable name\n",
    "\n",
    "class Person_6:\n",
    "    def __init__(self, name):\n",
    "        self._name = name\n",
    "        \n",
    "    def get_name(self):\n",
    "        return self._name\n",
    "    \n",
    "    def set_name(self, value):\n",
    "        if isinstance(value, str) and len(value.strip()) > 0:\n",
    "            self._name = value\n",
    "        else:\n",
    "            raise ValueError('name must be a non-empty string')\n",
    "            \n",
    "    name = property(fget=get_name, fset=set_name)"
   ]
  },
  {
   "cell_type": "code",
   "execution_count": 58,
   "id": "8e47c692",
   "metadata": {},
   "outputs": [],
   "source": [
    "trial_1 = Person_6('Alex')"
   ]
  },
  {
   "cell_type": "code",
   "execution_count": 59,
   "id": "eb36553e",
   "metadata": {},
   "outputs": [
    {
     "data": {
      "text/plain": [
       "'Alex'"
      ]
     },
     "execution_count": 59,
     "metadata": {},
     "output_type": "execute_result"
    }
   ],
   "source": [
    "trial_1.name"
   ]
  },
  {
   "cell_type": "code",
   "execution_count": 60,
   "id": "6e7c08e2",
   "metadata": {},
   "outputs": [],
   "source": [
    "trial_1.name = 'Jhon'"
   ]
  },
  {
   "cell_type": "markdown",
   "id": "e51bc122",
   "metadata": {},
   "source": [
    "## @property\n",
    "\n",
    "Property is a buitl-in function  that allow us to create a special type of attribute called property for a class. properties are used to encapsulate the access to an object attribute and to add some logic to the process such as computation, access control or validation"
   ]
  },
  {
   "cell_type": "code",
   "execution_count": 63,
   "id": "5e6cf52b",
   "metadata": {},
   "outputs": [],
   "source": [
    "import urllib\n",
    "from time import perf_counter"
   ]
  },
  {
   "cell_type": "code",
   "execution_count": 77,
   "id": "397bc1b5",
   "metadata": {},
   "outputs": [],
   "source": [
    "class Webpage:\n",
    "    def __init__(self, url):    #initializing the class with the constructor and private attributes\n",
    "        self._url = url\n",
    "        self._page = None\n",
    "        self._load_time_secs = None\n",
    "        self._page_size = None\n",
    "        \n",
    "    @property                 ## creating a getter called url\n",
    "    def url(self):\n",
    "        return self._url\n",
    "    \n",
    "    @url.setter                ## creating a url's setter\n",
    "    def url(self, value):\n",
    "        self._url = value\n",
    "        self._page = None\n",
    "        \n",
    "    @property                 # Creating page getter\n",
    "    def page(self):\n",
    "        if self._page is None:\n",
    "            self.download_page()\n",
    "        return self._page\n",
    "    \n",
    "    @property                  #creating page_size getter\n",
    "    def page_size(self):\n",
    "        if self._page_size is None:\n",
    "            self.download_page()\n",
    "        return self._page_size\n",
    "    \n",
    "    @property                    # creating a time_elapsed getter\n",
    "    def time_elapsed(self):\n",
    "        if self._page is None:\n",
    "            self.download_page()\n",
    "        return self._load_time_secs\n",
    "    \n",
    "    def download_page(self):         #Download method used in the previous methods\n",
    "        self._page = None\n",
    "        self._load_time_secs = None\n",
    "        start_time = perf_counter()\n",
    "        with urllib.request.urlopen(self.url) as f:\n",
    "            self._page = f.read()\n",
    "        end_time = perf_counter()\n",
    "        self._page_size = len(self._page)\n",
    "        self._load_time_secs = end_time - start_time\n"
   ]
  },
  {
   "cell_type": "code",
   "execution_count": 79,
   "id": "e41deddc",
   "metadata": {},
   "outputs": [],
   "source": [
    "urls = [ \n",
    "    'https://www.google.com',\n",
    "    'https://www.python.org',\n",
    "    'https://www.yahoo.com'   \n",
    "]"
   ]
  },
  {
   "cell_type": "code",
   "execution_count": 145,
   "id": "1f744acc",
   "metadata": {},
   "outputs": [
    {
     "name": "stdout",
     "output_type": "stream",
     "text": [
      "https://www.google.com\tsize=20_497\telapsed_time=0.276434 secs\n",
      "https://www.python.org\tsize=51_191\telapsed_time=0.412032 secs\n",
      "https://www.yahoo.com\tsize=1_694_629\telapsed_time=1.499922 secs\n"
     ]
    }
   ],
   "source": [
    "for url in urls:\n",
    "    page = Webpage(url)\n",
    "    print(f'{url}\\tsize={format(page.page_size,'_')}\\telapsed_time={page.time_elapsed:2f} secs')"
   ]
  },
  {
   "cell_type": "code",
   "execution_count": 146,
   "id": "d9d6c1bc",
   "metadata": {},
   "outputs": [],
   "source": [
    "from datetime import datetime, timezone, timedelta"
   ]
  },
  {
   "cell_type": "code",
   "execution_count": 147,
   "id": "eab4a156",
   "metadata": {},
   "outputs": [],
   "source": [
    "class Timer:\n",
    "    tz = timezone.utc\n",
    "    \n",
    "    @classmethod\n",
    "    def set_tz(cls, offset, name):\n",
    "        cls.tz = timezone(timedelta(hours=offset), name)\n",
    "    "
   ]
  },
  {
   "cell_type": "code",
   "execution_count": 150,
   "id": "be1a10a0",
   "metadata": {},
   "outputs": [],
   "source": [
    "Timer.set_tz(-7, 'MTS')"
   ]
  },
  {
   "cell_type": "code",
   "execution_count": 151,
   "id": "85fee04e",
   "metadata": {},
   "outputs": [
    {
     "data": {
      "text/plain": [
       "datetime.timezone(datetime.timedelta(days=-1, seconds=61200), 'MTS')"
      ]
     },
     "execution_count": 151,
     "metadata": {},
     "output_type": "execute_result"
    }
   ],
   "source": [
    "Timer.tz"
   ]
  },
  {
   "cell_type": "code",
   "execution_count": 152,
   "id": "3721d737",
   "metadata": {},
   "outputs": [],
   "source": [
    "t1 = Timer()\n",
    "t2 = Timer()"
   ]
  },
  {
   "cell_type": "code",
   "execution_count": 153,
   "id": "613a1642",
   "metadata": {},
   "outputs": [
    {
     "data": {
      "text/plain": [
       "(datetime.timezone(datetime.timedelta(days=-1, seconds=61200), 'MTS'),\n",
       " datetime.timezone(datetime.timedelta(days=-1, seconds=61200), 'MTS'))"
      ]
     },
     "execution_count": 153,
     "metadata": {},
     "output_type": "execute_result"
    }
   ],
   "source": [
    "t1.tz, t2.tz"
   ]
  },
  {
   "cell_type": "code",
   "execution_count": 154,
   "id": "4c3191c1",
   "metadata": {},
   "outputs": [
    {
     "data": {
      "text/plain": [
       "datetime.timezone"
      ]
     },
     "execution_count": 154,
     "metadata": {},
     "output_type": "execute_result"
    }
   ],
   "source": [
    "timezone"
   ]
  },
  {
   "cell_type": "code",
   "execution_count": 157,
   "id": "5b3590e6",
   "metadata": {},
   "outputs": [
    {
     "data": {
      "text/plain": [
       "datetime.datetime(2024, 11, 10, 10, 32, 39, 720632)"
      ]
     },
     "execution_count": 157,
     "metadata": {},
     "output_type": "execute_result"
    }
   ],
   "source": [
    "datetime.now()"
   ]
  },
  {
   "cell_type": "code",
   "execution_count": 158,
   "id": "fc34252e",
   "metadata": {},
   "outputs": [
    {
     "ename": "AttributeError",
     "evalue": "type object 'datetime.datetime' has no attribute 'datetime'",
     "output_type": "error",
     "traceback": [
      "\u001b[1;31m---------------------------------------------------------------------------\u001b[0m",
      "\u001b[1;31mAttributeError\u001b[0m                            Traceback (most recent call last)",
      "Cell \u001b[1;32mIn[158], line 1\u001b[0m\n\u001b[1;32m----> 1\u001b[0m datetime\u001b[38;5;241m.\u001b[39mdatetime\u001b[38;5;241m.\u001b[39mnow()\n",
      "\u001b[1;31mAttributeError\u001b[0m: type object 'datetime.datetime' has no attribute 'datetime'"
     ]
    }
   ],
   "source": [
    "datetime.datetime.now()"
   ]
  },
  {
   "cell_type": "code",
   "execution_count": 160,
   "id": "f99e3249",
   "metadata": {},
   "outputs": [
    {
     "data": {
      "text/plain": [
       "datetime.datetime(2024, 11, 10, 10, 35, 14, 408804)"
      ]
     },
     "execution_count": 160,
     "metadata": {},
     "output_type": "execute_result"
    }
   ],
   "source": [
    "datetime.now()"
   ]
  },
  {
   "cell_type": "code",
   "execution_count": 164,
   "id": "d7dded6a",
   "metadata": {},
   "outputs": [
    {
     "name": "stdout",
     "output_type": "stream",
     "text": [
      "<class 'datetime.timezone'>\n"
     ]
    }
   ],
   "source": [
    "print(timezone)"
   ]
  },
  {
   "cell_type": "code",
   "execution_count": 168,
   "id": "37c9dd30",
   "metadata": {},
   "outputs": [
    {
     "data": {
      "text/plain": [
       "datetime.datetime(2024, 11, 10, 15, 38, 17, 813178, tzinfo=datetime.timezone.utc)"
      ]
     },
     "execution_count": 168,
     "metadata": {},
     "output_type": "execute_result"
    }
   ],
   "source": [
    "datetime.now(timezone.utc)"
   ]
  },
  {
   "cell_type": "code",
   "execution_count": null,
   "id": "a2b281df",
   "metadata": {},
   "outputs": [],
   "source": []
  }
 ],
 "metadata": {
  "kernelspec": {
   "display_name": "Python 3 (ipykernel)",
   "language": "python",
   "name": "python3"
  },
  "language_info": {
   "codemirror_mode": {
    "name": "ipython",
    "version": 3
   },
   "file_extension": ".py",
   "mimetype": "text/x-python",
   "name": "python",
   "nbconvert_exporter": "python",
   "pygments_lexer": "ipython3",
   "version": "3.12.3"
  }
 },
 "nbformat": 4,
 "nbformat_minor": 5
}
