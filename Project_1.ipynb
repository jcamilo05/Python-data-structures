{
 "cells": [
  {
   "cell_type": "markdown",
   "id": "7eab1a87",
   "metadata": {},
   "source": [
    "## Description\n",
    "\n",
    "We need to create a class that should be used to represent bank account <br>\n",
    "We want the following functionality and characteristics\n",
    "* accounts are uniquely identified by an account number (aasume it will just passed in the initializer)\n",
    "* accounts holder have a last and firs name\n",
    "* accounsts have an asociated preferred time zone offset (e.g 7 for MST)\n",
    "* balances need to be zero or higher, and shouldn't be directly settable\n",
    "* but deposits and withdrawals can be made (given suficients funds)\n",
    "    * if a withdraw is attempted that would result in negative funds, the transaction should be declined\n",
    "* a monthly interest rate exist and is applicable to all accounts uniformly. There should be a method that can be called to calculate the interest on the current balance using the current interest rate and add it to a balance\n",
    "* each deposit and withdrawal must generate a confirmation number composed of:\n",
    "    * The transaction type: D for deposit, W for withdrawal, I for interest deposit, and X for declined (in which case the balance remain unaffected\n",
    "    * the account number\n",
    "    * the time the transaction was made, using UTC\n",
    "    * an incrementing number (that increments accross all accounts and transactions)\n",
    "    * for (extreme) simplicity assume that the transaction id starts at zero whenever the program starts\n",
    "    * the confirmation number should be returned from any of the transaction method (deposit, withdraw)\n",
    "* create a method that, given a confirmation numeber returns\n",
    "    * the account number, transaction code (D,W, etc) datetime (UTC format), date time (in whatever timezone is specified in the argument, but more human readable) the transacction id\n",
    "    * make it so, it is a nicely structure object (so can use dotted notation to access those attributes)\n",
    "    * I proposefully made it so the desired time zone is passed as an argument. Can you figure out why? (hint: does this method require any information from any instance?)\n",
    "  "
   ]
  },
  {
   "cell_type": "markdown",
   "id": "b08bc603",
   "metadata": {},
   "source": [
    "For example, we may have an account with: \n",
    "\n",
    "* account number: 140568\n",
    "* preferred time zone: 7 (MST)\n",
    "* an exisiting balance: 100.0\n",
    "\n",
    "Suppose the last transaction ID in the system was 123, and the deposit is made for 50.00 on 2019-03-15T14:59:00 UTC on that account.\n",
    "The new balance should reflect 150 and the confirmation number return should look like this:\n",
    "D-140568-20190315145900-124\n",
    "\n",
    "We also want a method that given the confirmation number returns an object with attributes\n",
    "\n",
    "* result.account_number -> 140568\n",
    "* result.transaction_code -> D\n",
    "* result.transaction_id -> 124\n",
    "* result.time -> 2019-03-15 07:59:00 (MST)\n",
    "* result.time_utc -> 2019-03-15T14:59:00\n",
    "\n",
    "Furthemore, if current interest rate is 0.5% and the account's balance is 100, then the result of calling the deposit_interest method, should result in a new transaction and new balance of 1050. Calling this method should also return a confirmation number"
   ]
  },
  {
   "cell_type": "code",
   "execution_count": 62,
   "id": "36117346",
   "metadata": {},
   "outputs": [],
   "source": [
    "from datetime import timedelta\n",
    "from  datetime import datetime\n",
    "\n",
    "class TimeZone:\n",
    "    '''Timezone is a class created to generate a timezone object'''\n",
    "    def __init__(self,name, offset_hours, offset_minutes):\n",
    "        \n",
    "        if(name is None or len(str(name).strip())==0):      #Validating the name is an string\n",
    "            raise ValueError('TimeZone name can\\'t be zero')\n",
    "        \n",
    "        self._name = name.strip()                           # As the name is a sting can be saved as argument\n",
    "        \n",
    "        if not isinstance(offset_hours,int):                # Validating offset hour is an integer\n",
    "            raise ValueError('Hours offset must be an integer')\n",
    "        \n",
    "        if not isinstance(offset_minutes,int):                # Validating offset minute is an integer\n",
    "            raise ValueError('minutes offset must be an integer')\n",
    "        \n",
    "        if offset_minutes > 59 or offset_minutes < -59:       #validating the mitues was set with a valid interval\n",
    "            raise ValueError('Minutes offset must be between -59 and 59')\n",
    "            \n",
    "        offset = timedelta(hours=offset_hours, minutes=offset_minutes)\n",
    "        \n",
    "        self._offset_hours = offset_hours\n",
    "        self._offset_minutes = offset_minutes\n",
    "        self._offset = offset\n",
    "    \n",
    "    @property                     # gettter for offset\n",
    "    def offset(self):\n",
    "        return self._offset\n",
    "    \n",
    "    @property                     # gettter for name\n",
    "    def name(self):\n",
    "        return self._name\n",
    "    \n",
    "    def __repr__(self):\n",
    "        return (f'TimeZone(name={self.name}, offset_hours={self._offset_hours}, offset_minutes={self._offset_minutes})')"
   ]
  },
  {
   "cell_type": "code",
   "execution_count": 44,
   "id": "7962c906",
   "metadata": {},
   "outputs": [],
   "source": [
    "def transaction_ids(start_id):\n",
    "    '''function to generate an iterable di used in the Account class'''\n",
    "    while True:\n",
    "        start_id += 1\n",
    "        yield start_id"
   ]
  },
  {
   "cell_type": "code",
   "execution_count": 81,
   "id": "7f78cd48",
   "metadata": {},
   "outputs": [],
   "source": [
    "class Account:\n",
    "    \n",
    "    '''Class Account has as a parameter account number, first name and last name, time zone and initial balance'''\n",
    "    \n",
    "    transaction_counter = transaction_ids(100)      # Already created function to generate an consecutive id\n",
    "    _interest_rate = 0.5\n",
    "    \n",
    "    def __init__(self, account_number, first_name, last_name, timezone=None,     #initializing the class\n",
    "                initial_balance = 0):   \n",
    "        self._account_number = account_number\n",
    "        self._first_name = first_name                             #can't be named _first_name cause it will be setted with a validation function\n",
    "        self._last_name = last_name                               #can't be named _last_name cause it will be setted with a validation function\n",
    "    \n",
    "        if timezone is None:                                      # setting a default timezone\n",
    "            timezone = TimeZone('UTC', 0, 0)\n",
    "        self._timezone = timezone\n",
    "        \n",
    "        self._balance = initial_balance\n",
    "        \n",
    "    @property                                                      # shows the account number\n",
    "    def account_number(self):\n",
    "        return self._account_number\n",
    "    \n",
    "    @property                                                     # shows the first name\n",
    "    def first_name(self):\n",
    "        return self._first_name\n",
    "    \n",
    "    @first_name.setter                                         #change the first name but previous validation if is allowed\n",
    "    def first_name(self,value):\n",
    "        self._first_name = Account.validation_name(value,'First name')\n",
    "    \n",
    "    @property                                                  # shows the last name\n",
    "    def last_name(self):\n",
    "        return print(self._last_name)\n",
    "    \n",
    "    @last_name.setter                                          # set the last name previous validation\n",
    "    def last_name(self, value):\n",
    "        self._last_name = Account.validation_name(value,'Last name')\n",
    "    \n",
    "    @property                                                 # shows the balance account\n",
    "    def balance(self):\n",
    "        return self._balance\n",
    "        \n",
    "    @property                                                 # shows the time zone\n",
    "    def timezone(self):\n",
    "        return self._timezone\n",
    "    \n",
    "    @timezone.setter                                  #set a new timezone validation previous validation otherwise shows an error\n",
    "    def timezone(self, value):\n",
    "        if not isinstance(value, TimeZone):\n",
    "            raise ValueError('Time zone must be a valid TimeZone object')\n",
    "        self._timezone = value\n",
    "    \n",
    "    @classmethod                                     # classmethod that shows the interest class rate\n",
    "    def get_interes_rate(cls):\n",
    "        return cls._interest_rate\n",
    "    \n",
    "    @classmethod                                     # set the interest rate to the class\n",
    "    def set_interest_rate(cls, value):\n",
    "        if not isinstance(value, float):\n",
    "            raise ValueError('Interest rate must be a real numbre')\n",
    "        cls._interest_rate = value\n",
    "        \n",
    "    def generate_code(self, transaction_code):    #generate code to show the account information\n",
    "        dtr_str = datetime.now().strftime(\"%Y%m%d%H%M%S\")\n",
    "        return f'{transaction_code}-{self.account_number}-{dtr_str}-{next(Account.transaction_counter)}'\n",
    "    \n",
    "    @staticmethod                                   #classmethod used in some methods to validate if value is a string\n",
    "    def validation_name(value,parameter):\n",
    "        if len(str(value).strip()) == 0:\n",
    "            raise ValueError(f'{parameter} can\\'t be empty value')\n",
    "        return value.strip()\n",
    "    \n",
    "    def make_transaction(self):\n",
    "        return self.generate_code('Dummy')"
   ]
  },
  {
   "cell_type": "code",
   "execution_count": 82,
   "id": "02b668df",
   "metadata": {},
   "outputs": [],
   "source": [
    "account2 = Account(account_number=\"67890\", first_name=\"Jhoon\", last_name=\"Doe\", initial_balance=1000)\n",
    "\n",
    "# Later, trying to set the invalid name will raise an error\n",
    "try:\n",
    "    account2.first_name = \"Doe \"  # Invalid first name\n",
    "except ValueError as e:\n",
    "    print(e)  # Output: First name must be a value."
   ]
  },
  {
   "cell_type": "code",
   "execution_count": 83,
   "id": "aebd029a",
   "metadata": {},
   "outputs": [
    {
     "data": {
      "text/plain": [
       "'Dummy-67890-20241116113909-101'"
      ]
     },
     "execution_count": 83,
     "metadata": {},
     "output_type": "execute_result"
    }
   ],
   "source": [
    "account2.make_transaction()"
   ]
  },
  {
   "cell_type": "code",
   "execution_count": 74,
   "id": "e61f82f4",
   "metadata": {},
   "outputs": [
    {
     "data": {
      "text/plain": [
       "'D-67890-20241116113101-101'"
      ]
     },
     "execution_count": 74,
     "metadata": {},
     "output_type": "execute_result"
    }
   ],
   "source": [
    "account2.generate_code()"
   ]
  },
  {
   "cell_type": "code",
   "execution_count": 75,
   "id": "3b3efb8d",
   "metadata": {},
   "outputs": [
    {
     "data": {
      "text/plain": [
       "101"
      ]
     },
     "execution_count": 75,
     "metadata": {},
     "output_type": "execute_result"
    }
   ],
   "source": [
    "next(transaction_ids(100))"
   ]
  },
  {
   "cell_type": "code",
   "execution_count": null,
   "id": "c2f97969",
   "metadata": {},
   "outputs": [],
   "source": []
  }
 ],
 "metadata": {
  "kernelspec": {
   "display_name": "Python 3 (ipykernel)",
   "language": "python",
   "name": "python3"
  },
  "language_info": {
   "codemirror_mode": {
    "name": "ipython",
    "version": 3
   },
   "file_extension": ".py",
   "mimetype": "text/x-python",
   "name": "python",
   "nbconvert_exporter": "python",
   "pygments_lexer": "ipython3",
   "version": "3.12.3"
  }
 },
 "nbformat": 4,
 "nbformat_minor": 5
}
